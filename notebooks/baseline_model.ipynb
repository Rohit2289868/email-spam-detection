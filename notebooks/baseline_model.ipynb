{
 "cells": [
  {
   "cell_type": "markdown",
   "id": "30d87b5d",
   "metadata": {},
   "source": [
    "### data ingestion"
   ]
  },
  {
   "cell_type": "code",
   "execution_count": 31,
   "id": "e8fb53fc",
   "metadata": {},
   "outputs": [],
   "source": [
    "import pandas as pd\n",
    "import numpy as np"
   ]
  },
  {
   "cell_type": "code",
   "execution_count": 32,
   "id": "66ed3f64",
   "metadata": {},
   "outputs": [],
   "source": [
    "df = pd.read_csv(\"../data/raw/emails.csv\")"
   ]
  },
  {
   "cell_type": "code",
   "execution_count": 33,
   "id": "7c868cae",
   "metadata": {},
   "outputs": [
    {
     "data": {
      "text/html": [
       "<div>\n",
       "<style scoped>\n",
       "    .dataframe tbody tr th:only-of-type {\n",
       "        vertical-align: middle;\n",
       "    }\n",
       "\n",
       "    .dataframe tbody tr th {\n",
       "        vertical-align: top;\n",
       "    }\n",
       "\n",
       "    .dataframe thead th {\n",
       "        text-align: right;\n",
       "    }\n",
       "</style>\n",
       "<table border=\"1\" class=\"dataframe\">\n",
       "  <thead>\n",
       "    <tr style=\"text-align: right;\">\n",
       "      <th></th>\n",
       "      <th>text</th>\n",
       "      <th>spam</th>\n",
       "    </tr>\n",
       "  </thead>\n",
       "  <tbody>\n",
       "    <tr>\n",
       "      <th>0</th>\n",
       "      <td>Subject: naturally irresistible your corporate...</td>\n",
       "      <td>1</td>\n",
       "    </tr>\n",
       "    <tr>\n",
       "      <th>1</th>\n",
       "      <td>Subject: the stock trading gunslinger  fanny i...</td>\n",
       "      <td>1</td>\n",
       "    </tr>\n",
       "    <tr>\n",
       "      <th>2</th>\n",
       "      <td>Subject: unbelievable new homes made easy  im ...</td>\n",
       "      <td>1</td>\n",
       "    </tr>\n",
       "    <tr>\n",
       "      <th>3</th>\n",
       "      <td>Subject: 4 color printing special  request add...</td>\n",
       "      <td>1</td>\n",
       "    </tr>\n",
       "    <tr>\n",
       "      <th>4</th>\n",
       "      <td>Subject: do not have money , get software cds ...</td>\n",
       "      <td>1</td>\n",
       "    </tr>\n",
       "  </tbody>\n",
       "</table>\n",
       "</div>"
      ],
      "text/plain": [
       "                                                text  spam\n",
       "0  Subject: naturally irresistible your corporate...     1\n",
       "1  Subject: the stock trading gunslinger  fanny i...     1\n",
       "2  Subject: unbelievable new homes made easy  im ...     1\n",
       "3  Subject: 4 color printing special  request add...     1\n",
       "4  Subject: do not have money , get software cds ...     1"
      ]
     },
     "execution_count": 33,
     "metadata": {},
     "output_type": "execute_result"
    }
   ],
   "source": [
    "df.head()"
   ]
  },
  {
   "cell_type": "code",
   "execution_count": 34,
   "id": "b4cf347d",
   "metadata": {},
   "outputs": [
    {
     "data": {
      "text/plain": [
       "(5728, 2)"
      ]
     },
     "execution_count": 34,
     "metadata": {},
     "output_type": "execute_result"
    }
   ],
   "source": [
    "df.shape"
   ]
  },
  {
   "cell_type": "code",
   "execution_count": 35,
   "id": "ec8774be",
   "metadata": {},
   "outputs": [
    {
     "data": {
      "text/plain": [
       "spam\n",
       "0    4360\n",
       "1    1368\n",
       "Name: count, dtype: int64"
      ]
     },
     "execution_count": 35,
     "metadata": {},
     "output_type": "execute_result"
    }
   ],
   "source": [
    "df['spam'].value_counts()"
   ]
  },
  {
   "cell_type": "code",
   "execution_count": 36,
   "id": "d9e08178",
   "metadata": {},
   "outputs": [
    {
     "data": {
      "text/plain": [
       "text    0\n",
       "spam    0\n",
       "dtype: int64"
      ]
     },
     "execution_count": 36,
     "metadata": {},
     "output_type": "execute_result"
    }
   ],
   "source": [
    "df.isnull().sum()"
   ]
  },
  {
   "cell_type": "code",
   "execution_count": 37,
   "id": "9efeb940",
   "metadata": {},
   "outputs": [
    {
     "data": {
      "text/plain": [
       "np.int64(33)"
      ]
     },
     "execution_count": 37,
     "metadata": {},
     "output_type": "execute_result"
    }
   ],
   "source": [
    "df.duplicated().sum()"
   ]
  },
  {
   "cell_type": "code",
   "execution_count": 38,
   "id": "a66957e7",
   "metadata": {},
   "outputs": [],
   "source": [
    "df.drop_duplicates(inplace=True)"
   ]
  },
  {
   "cell_type": "code",
   "execution_count": 39,
   "id": "926beaff",
   "metadata": {},
   "outputs": [
    {
     "data": {
      "text/plain": [
       "(5695, 2)"
      ]
     },
     "execution_count": 39,
     "metadata": {},
     "output_type": "execute_result"
    }
   ],
   "source": [
    "df.shape"
   ]
  },
  {
   "cell_type": "code",
   "execution_count": 40,
   "id": "67d8f481",
   "metadata": {},
   "outputs": [],
   "source": [
    "df = df.sample(frac=1, random_state=42).reset_index(drop=True)"
   ]
  },
  {
   "cell_type": "code",
   "execution_count": 41,
   "id": "b3a305bd",
   "metadata": {},
   "outputs": [
    {
     "data": {
      "text/plain": [
       "<bound method NDFrame.sample of                                                    text  spam\n",
       "0     Subject: eprm article  hi vince ,  ?  as alway...     0\n",
       "1     Subject: fluid analysis  our customer speak vo...     1\n",
       "2     Subject: re : liquids limits oct . 20  john : ...     0\n",
       "3     Subject: computer  recently a new person moved...     0\n",
       "4     Subject: re : visual numerics cnl licensing is...     0\n",
       "...                                                 ...   ...\n",
       "5690  Subject: thomas knudsen  hi vince  i met with ...     0\n",
       "5691  Subject: sevil yamin  vince ,  do you want me ...     0\n",
       "5692  Subject: re : a request  zimin ,  i also enjoy...     0\n",
       "5693  Subject: 6 / 30 aga forecast at 66  mike ,  my...     0\n",
       "5694  Subject: perfect visual solution for your busi...     1\n",
       "\n",
       "[5695 rows x 2 columns]>"
      ]
     },
     "execution_count": 41,
     "metadata": {},
     "output_type": "execute_result"
    }
   ],
   "source": [
    "df.sample"
   ]
  },
  {
   "cell_type": "markdown",
   "id": "3ae30136",
   "metadata": {},
   "source": [
    "### data preprocessing"
   ]
  },
  {
   "cell_type": "code",
   "execution_count": 42,
   "id": "0b76fc07",
   "metadata": {},
   "outputs": [],
   "source": [
    "import re\n",
    "import nltk\n",
    "import string\n",
    "from nltk.corpus import stopwords\n",
    "from nltk.stem import WordNetLemmatizer"
   ]
  },
  {
   "cell_type": "code",
   "execution_count": 43,
   "id": "e7c35b74",
   "metadata": {},
   "outputs": [
    {
     "name": "stderr",
     "output_type": "stream",
     "text": [
      "[nltk_data] Downloading package punkt to\n",
      "[nltk_data]     C:\\Users\\Dell\\AppData\\Roaming\\nltk_data...\n",
      "[nltk_data]   Package punkt is already up-to-date!\n",
      "[nltk_data] Downloading package stopwords to\n",
      "[nltk_data]     C:\\Users\\Dell\\AppData\\Roaming\\nltk_data...\n",
      "[nltk_data]   Package stopwords is already up-to-date!\n",
      "[nltk_data] Downloading package wordnet to\n",
      "[nltk_data]     C:\\Users\\Dell\\AppData\\Roaming\\nltk_data...\n",
      "[nltk_data]   Package wordnet is already up-to-date!\n",
      "[nltk_data] Downloading package omw-1.4 to\n",
      "[nltk_data]     C:\\Users\\Dell\\AppData\\Roaming\\nltk_data...\n",
      "[nltk_data]   Package omw-1.4 is already up-to-date!\n"
     ]
    },
    {
     "data": {
      "text/plain": [
       "True"
      ]
     },
     "execution_count": 43,
     "metadata": {},
     "output_type": "execute_result"
    }
   ],
   "source": [
    "nltk.download('punkt')\n",
    "nltk.download('stopwords')\n",
    "nltk.download('wordnet')\n",
    "nltk.download('omw-1.4')"
   ]
  },
  {
   "cell_type": "code",
   "execution_count": 44,
   "id": "942b9249",
   "metadata": {},
   "outputs": [],
   "source": [
    "# Initialize stopwords & lemmatizer\n",
    "stop_words = set(stopwords.words('english'))\n",
    "lemmatizer = WordNetLemmatizer()\n",
    "\n",
    "def preprocess_email(text):\n",
    "    # Lowercase\n",
    "    text = text.lower()\n",
    "    # Remove links (normal + obfuscated)\n",
    "    text = re.sub(r'http\\S+|www\\S+|https\\S+', '', text)\n",
    "    text = re.sub(r'h\\s*t\\s*t\\s*p\\s*s?\\s*:\\s*/\\s*/\\s*\\S+', '', text, flags=re.IGNORECASE)\n",
    "    # Remove numbers\n",
    "    text = re.sub(r'\\d+', '', text)\n",
    "    # Remove punctuation using regex\n",
    "    text = re.sub(r'[^\\w\\s]', '', text)\n",
    "    # Normalize whitespace\n",
    "    text = re.sub(r'\\s+', ' ', text).strip()\n",
    "    # Tokenize\n",
    "    words = text.split()\n",
    "    # Remove stopwords + Lemmatize\n",
    "    words = [lemmatizer.lemmatize(word) for word in words if word not in stop_words]\n",
    "    return \" \".join(words)"
   ]
  },
  {
   "cell_type": "code",
   "execution_count": 45,
   "id": "dec70ef3",
   "metadata": {},
   "outputs": [
    {
     "data": {
      "text/plain": [
       "'child running quickly better dog chased happily'"
      ]
     },
     "execution_count": 45,
     "metadata": {},
     "output_type": "execute_result"
    }
   ],
   "source": [
    "preprocess_email(\"The children were running quickly and the better dogs chased them happily.\")"
   ]
  },
  {
   "cell_type": "markdown",
   "id": "01571dc7",
   "metadata": {},
   "source": [
    "### Feature Engineering"
   ]
  },
  {
   "cell_type": "code",
   "execution_count": 46,
   "id": "bbdac09a",
   "metadata": {},
   "outputs": [],
   "source": [
    "X = df['text']\n",
    "y = df['spam']"
   ]
  },
  {
   "cell_type": "code",
   "execution_count": 47,
   "id": "085db71b",
   "metadata": {},
   "outputs": [
    {
     "data": {
      "text/plain": [
       "pandas.core.series.Series"
      ]
     },
     "execution_count": 47,
     "metadata": {},
     "output_type": "execute_result"
    }
   ],
   "source": [
    "type(y)"
   ]
  },
  {
   "cell_type": "code",
   "execution_count": 48,
   "id": "6ea39f5a",
   "metadata": {},
   "outputs": [],
   "source": [
    "from sklearn.model_selection import train_test_split\n",
    "\n",
    "X_train, X_test, y_train, y_test = train_test_split(X, y, test_size=0.2, random_state=42)"
   ]
  },
  {
   "cell_type": "code",
   "execution_count": 49,
   "id": "cd0490a4",
   "metadata": {},
   "outputs": [],
   "source": [
    "train_data, test_data = train_test_split(df, test_size=0.2, random_state=42)"
   ]
  },
  {
   "cell_type": "code",
   "execution_count": 50,
   "id": "59ddda64",
   "metadata": {},
   "outputs": [],
   "source": [
    "train_data['text'] = train_data['text'].apply(preprocess_email)"
   ]
  },
  {
   "cell_type": "code",
   "execution_count": 51,
   "id": "3e574a2c",
   "metadata": {},
   "outputs": [
    {
     "data": {
      "text/plain": [
       "array(['subject genuine log home future genuine log home future western red cedar log siding basic kit builder kit precut kit custom design custom kit type log style feel find log home superior others market price structure competitive less desirable housing remember home major investment focal point family use deserve best home possible amount money spend click link catalog genuine log home accessory www genuineloghome com sale rep code bsad removed mailing please send email higher _ learningl yahoo com',\n",
       "       np.int64(1)], dtype=object)"
      ]
     },
     "execution_count": 51,
     "metadata": {},
     "output_type": "execute_result"
    }
   ],
   "source": [
    "train_data.iloc[0].values"
   ]
  },
  {
   "cell_type": "code",
   "execution_count": 52,
   "id": "3a05e5ef",
   "metadata": {},
   "outputs": [
    {
     "data": {
      "text/plain": [
       "array(['subject genuine log home future genuine log home future western red cedar log siding basic kit builder kit precut kit custom design custom kit type log style feel find log home superior others market price structure competitive less desirable housing remember home major investment focal point family use deserve best home possible amount money spend click link catalog genuine log home accessory www genuineloghome com sale rep code bsad removed mailing please send email higher _ learningl yahoo com',\n",
       "       np.int64(1)], dtype=object)"
      ]
     },
     "execution_count": 52,
     "metadata": {},
     "output_type": "execute_result"
    }
   ],
   "source": [
    "train_data.iloc[0].values"
   ]
  },
  {
   "cell_type": "code",
   "execution_count": 53,
   "id": "921fdc47",
   "metadata": {},
   "outputs": [],
   "source": [
    "from sklearn.feature_extraction.text import CountVectorizer\n",
    "\n",
    "vectorizer = CountVectorizer(max_features=1000)\n",
    "\n",
    "X_train_vectorized = vectorizer.fit_transform(X_train)\n",
    "X_test_vectorized = vectorizer.transform(X_test)\n"
   ]
  },
  {
   "cell_type": "code",
   "execution_count": 54,
   "id": "fbba15c7",
   "metadata": {},
   "outputs": [],
   "source": [
    "X_train = train_data['text']\n",
    "X_test = test_data['text']\n",
    "y_train = train_data['spam']\n",
    "y_test = test_data['spam']\n",
    "x_train_bow = vectorizer.fit_transform(X_train)\n",
    "x_test_bow = vectorizer.transform(X_test)"
   ]
  },
  {
   "cell_type": "code",
   "execution_count": 55,
   "id": "1c69374c",
   "metadata": {},
   "outputs": [],
   "source": [
    "train_df = pd.DataFrame(x_train_bow.toarray())\n",
    "train_df['spam'] = y_train"
   ]
  },
  {
   "cell_type": "code",
   "execution_count": 56,
   "id": "ed51ecaf",
   "metadata": {},
   "outputs": [
    {
     "data": {
      "text/html": [
       "<div>\n",
       "<style scoped>\n",
       "    .dataframe tbody tr th:only-of-type {\n",
       "        vertical-align: middle;\n",
       "    }\n",
       "\n",
       "    .dataframe tbody tr th {\n",
       "        vertical-align: top;\n",
       "    }\n",
       "\n",
       "    .dataframe thead th {\n",
       "        text-align: right;\n",
       "    }\n",
       "</style>\n",
       "<table border=\"1\" class=\"dataframe\">\n",
       "  <thead>\n",
       "    <tr style=\"text-align: right;\">\n",
       "      <th></th>\n",
       "      <th>0</th>\n",
       "      <th>1</th>\n",
       "      <th>2</th>\n",
       "      <th>3</th>\n",
       "      <th>4</th>\n",
       "      <th>5</th>\n",
       "      <th>6</th>\n",
       "      <th>7</th>\n",
       "      <th>8</th>\n",
       "      <th>9</th>\n",
       "      <th>...</th>\n",
       "      <th>991</th>\n",
       "      <th>992</th>\n",
       "      <th>993</th>\n",
       "      <th>994</th>\n",
       "      <th>995</th>\n",
       "      <th>996</th>\n",
       "      <th>997</th>\n",
       "      <th>998</th>\n",
       "      <th>999</th>\n",
       "      <th>spam</th>\n",
       "    </tr>\n",
       "  </thead>\n",
       "  <tbody>\n",
       "    <tr>\n",
       "      <th>0</th>\n",
       "      <td>0</td>\n",
       "      <td>0</td>\n",
       "      <td>0</td>\n",
       "      <td>0</td>\n",
       "      <td>0</td>\n",
       "      <td>0</td>\n",
       "      <td>0</td>\n",
       "      <td>0</td>\n",
       "      <td>0</td>\n",
       "      <td>0</td>\n",
       "      <td>...</td>\n",
       "      <td>0</td>\n",
       "      <td>1</td>\n",
       "      <td>1</td>\n",
       "      <td>0</td>\n",
       "      <td>0</td>\n",
       "      <td>0</td>\n",
       "      <td>0</td>\n",
       "      <td>0</td>\n",
       "      <td>0</td>\n",
       "      <td>0.0</td>\n",
       "    </tr>\n",
       "    <tr>\n",
       "      <th>1</th>\n",
       "      <td>0</td>\n",
       "      <td>0</td>\n",
       "      <td>0</td>\n",
       "      <td>0</td>\n",
       "      <td>0</td>\n",
       "      <td>0</td>\n",
       "      <td>0</td>\n",
       "      <td>0</td>\n",
       "      <td>0</td>\n",
       "      <td>0</td>\n",
       "      <td>...</td>\n",
       "      <td>0</td>\n",
       "      <td>0</td>\n",
       "      <td>0</td>\n",
       "      <td>0</td>\n",
       "      <td>0</td>\n",
       "      <td>0</td>\n",
       "      <td>0</td>\n",
       "      <td>0</td>\n",
       "      <td>0</td>\n",
       "      <td>1.0</td>\n",
       "    </tr>\n",
       "    <tr>\n",
       "      <th>2</th>\n",
       "      <td>0</td>\n",
       "      <td>0</td>\n",
       "      <td>0</td>\n",
       "      <td>0</td>\n",
       "      <td>0</td>\n",
       "      <td>0</td>\n",
       "      <td>0</td>\n",
       "      <td>0</td>\n",
       "      <td>0</td>\n",
       "      <td>0</td>\n",
       "      <td>...</td>\n",
       "      <td>0</td>\n",
       "      <td>0</td>\n",
       "      <td>0</td>\n",
       "      <td>0</td>\n",
       "      <td>0</td>\n",
       "      <td>0</td>\n",
       "      <td>0</td>\n",
       "      <td>0</td>\n",
       "      <td>0</td>\n",
       "      <td>0.0</td>\n",
       "    </tr>\n",
       "    <tr>\n",
       "      <th>3</th>\n",
       "      <td>0</td>\n",
       "      <td>0</td>\n",
       "      <td>0</td>\n",
       "      <td>0</td>\n",
       "      <td>0</td>\n",
       "      <td>0</td>\n",
       "      <td>0</td>\n",
       "      <td>0</td>\n",
       "      <td>0</td>\n",
       "      <td>0</td>\n",
       "      <td>...</td>\n",
       "      <td>0</td>\n",
       "      <td>0</td>\n",
       "      <td>0</td>\n",
       "      <td>0</td>\n",
       "      <td>0</td>\n",
       "      <td>0</td>\n",
       "      <td>0</td>\n",
       "      <td>0</td>\n",
       "      <td>0</td>\n",
       "      <td>0.0</td>\n",
       "    </tr>\n",
       "    <tr>\n",
       "      <th>4</th>\n",
       "      <td>0</td>\n",
       "      <td>0</td>\n",
       "      <td>0</td>\n",
       "      <td>0</td>\n",
       "      <td>0</td>\n",
       "      <td>0</td>\n",
       "      <td>0</td>\n",
       "      <td>0</td>\n",
       "      <td>0</td>\n",
       "      <td>0</td>\n",
       "      <td>...</td>\n",
       "      <td>0</td>\n",
       "      <td>0</td>\n",
       "      <td>0</td>\n",
       "      <td>0</td>\n",
       "      <td>0</td>\n",
       "      <td>0</td>\n",
       "      <td>0</td>\n",
       "      <td>0</td>\n",
       "      <td>0</td>\n",
       "      <td>0.0</td>\n",
       "    </tr>\n",
       "  </tbody>\n",
       "</table>\n",
       "<p>5 rows × 1001 columns</p>\n",
       "</div>"
      ],
      "text/plain": [
       "   0  1  2  3  4  5  6  7  8  9  ...  991  992  993  994  995  996  997  998  \\\n",
       "0  0  0  0  0  0  0  0  0  0  0  ...    0    1    1    0    0    0    0    0   \n",
       "1  0  0  0  0  0  0  0  0  0  0  ...    0    0    0    0    0    0    0    0   \n",
       "2  0  0  0  0  0  0  0  0  0  0  ...    0    0    0    0    0    0    0    0   \n",
       "3  0  0  0  0  0  0  0  0  0  0  ...    0    0    0    0    0    0    0    0   \n",
       "4  0  0  0  0  0  0  0  0  0  0  ...    0    0    0    0    0    0    0    0   \n",
       "\n",
       "   999  spam  \n",
       "0    0   0.0  \n",
       "1    0   1.0  \n",
       "2    0   0.0  \n",
       "3    0   0.0  \n",
       "4    0   0.0  \n",
       "\n",
       "[5 rows x 1001 columns]"
      ]
     },
     "execution_count": 56,
     "metadata": {},
     "output_type": "execute_result"
    }
   ],
   "source": [
    "train_df.head()"
   ]
  },
  {
   "cell_type": "markdown",
   "id": "9954e926",
   "metadata": {},
   "source": [
    "### mlflow on dagshub"
   ]
  },
  {
   "cell_type": "code",
   "execution_count": 57,
   "id": "bf75f19d",
   "metadata": {},
   "outputs": [
    {
     "data": {
      "text/html": [
       "<pre style=\"white-space:pre;overflow-x:auto;line-height:normal;font-family:Menlo,'DejaVu Sans Mono',consolas,'Courier New',monospace\">Accessing as rk2289868\n",
       "</pre>\n"
      ],
      "text/plain": [
       "Accessing as rk2289868\n"
      ]
     },
     "metadata": {},
     "output_type": "display_data"
    },
    {
     "data": {
      "text/html": [
       "<pre style=\"white-space:pre;overflow-x:auto;line-height:normal;font-family:Menlo,'DejaVu Sans Mono',consolas,'Courier New',monospace\">Initialized MLflow to track repo <span style=\"color: #008000; text-decoration-color: #008000\">\"rk2289868/email-spam-detection\"</span>\n",
       "</pre>\n"
      ],
      "text/plain": [
       "Initialized MLflow to track repo \u001b[32m\"rk2289868/email-spam-detection\"\u001b[0m\n"
      ]
     },
     "metadata": {},
     "output_type": "display_data"
    },
    {
     "data": {
      "text/html": [
       "<pre style=\"white-space:pre;overflow-x:auto;line-height:normal;font-family:Menlo,'DejaVu Sans Mono',consolas,'Courier New',monospace\">Repository rk2289868/email-spam-detection initialized!\n",
       "</pre>\n"
      ],
      "text/plain": [
       "Repository rk2289868/email-spam-detection initialized!\n"
      ]
     },
     "metadata": {},
     "output_type": "display_data"
    }
   ],
   "source": [
    "import dagshub\n",
    "dagshub.init(repo_owner='rk2289868', repo_name='email-spam-detection', mlflow=True)\n"
   ]
  },
  {
   "cell_type": "code",
   "execution_count": 58,
   "id": "22c72892",
   "metadata": {},
   "outputs": [],
   "source": [
    "from sklearn.naive_bayes import MultinomialNB\n",
    "from sklearn.linear_model import LogisticRegression\n",
    "from sklearn.ensemble import RandomForestClassifier, GradientBoostingClassifier\n",
    "\n",
    "mnb = MultinomialNB()\n",
    "lr = LogisticRegression()\n",
    "rf = RandomForestClassifier()\n",
    "gb = GradientBoostingClassifier()\n"
   ]
  },
  {
   "cell_type": "code",
   "execution_count": 59,
   "id": "5159e077",
   "metadata": {},
   "outputs": [],
   "source": [
    "models = [mnb, lr, rf, gb]"
   ]
  },
  {
   "cell_type": "code",
   "execution_count": 60,
   "id": "dac32cde",
   "metadata": {},
   "outputs": [
    {
     "name": "stdout",
     "output_type": "stream",
     "text": [
      "Model: MultinomialNB, accuracy_score: 0.9683933274802459\n",
      "🏃 View run hilarious-stag-324 at: https://dagshub.com/rk2289868/email-spam-detection.mlflow/#/experiments/1/runs/67a344f8d8c84071bc6332846885bda0\n",
      "🧪 View experiment at: https://dagshub.com/rk2289868/email-spam-detection.mlflow/#/experiments/1\n",
      "Model: LogisticRegression, accuracy_score: 0.9868305531167691\n",
      "🏃 View run defiant-midge-150 at: https://dagshub.com/rk2289868/email-spam-detection.mlflow/#/experiments/1/runs/16185fecf27d4567a7d36e17b2889700\n",
      "🧪 View experiment at: https://dagshub.com/rk2289868/email-spam-detection.mlflow/#/experiments/1\n",
      "Model: RandomForestClassifier, accuracy_score: 0.9789288849868305\n",
      "🏃 View run bald-snake-861 at: https://dagshub.com/rk2289868/email-spam-detection.mlflow/#/experiments/1/runs/9146db87b3a84f4cadb3ad3bdabb62a4\n",
      "🧪 View experiment at: https://dagshub.com/rk2289868/email-spam-detection.mlflow/#/experiments/1\n",
      "Model: GradientBoostingClassifier, accuracy_score: 0.9780509218612818\n",
      "🏃 View run magnificent-rook-833 at: https://dagshub.com/rk2289868/email-spam-detection.mlflow/#/experiments/1/runs/0a27c3e6fcbd4002855582100645a443\n",
      "🧪 View experiment at: https://dagshub.com/rk2289868/email-spam-detection.mlflow/#/experiments/1\n",
      "🏃 View run powerful-doe-198 at: https://dagshub.com/rk2289868/email-spam-detection.mlflow/#/experiments/1/runs/466d4755904b447088f372a963cc9c16\n",
      "🧪 View experiment at: https://dagshub.com/rk2289868/email-spam-detection.mlflow/#/experiments/1\n"
     ]
    },
    {
     "data": {
      "image/png": "[encoded data removed]",
      "text/plain": [
       "<Figure size 600x600 with 2 Axes>"
      ]
     },
     "metadata": {},
     "output_type": "display_data"
    },
    {
     "data": {
      "image/png": "[encoded data removed]",
      "text/plain": [
       "<Figure size 600x600 with 2 Axes>"
      ]
     },
     "metadata": {},
     "output_type": "display_data"
    },
    {
     "data": {
      "image/png": "[encoded data removed]",
      "text/plain": [
       "<Figure size 600x600 with 2 Axes>"
      ]
     },
     "metadata": {},
     "output_type": "display_data"
    },
    {
     "data": {
      "image/png": "[encoded data removed]",
      "text/plain": [
       "<Figure size 600x600 with 2 Axes>"
      ]
     },
     "metadata": {},
     "output_type": "display_data"
    }
   ],
   "source": [
    "import mlflow\n",
    "from sklearn.metrics import accuracy_score, confusion_matrix\n",
    "import seaborn as sns\n",
    "import matplotlib.pyplot as plt\n",
    "\n",
    "mlflow.set_experiment(\"baseline_experiment\")\n",
    "with mlflow.start_run() as parent:\n",
    "\n",
    "    for model in models:\n",
    "        with mlflow.start_run(nested=True) as child:\n",
    "            model.fit(X_train_vectorized, y_train)\n",
    "            y_pred = model.predict(X_test_vectorized)\n",
    "            score = accuracy_score(y_pred, y_test)\n",
    "            mlflow.log_metric(\"accuracy_score\", score)\n",
    "\n",
    "            # create a confusion matrix plot\n",
    "            cm = confusion_matrix(y_pred, y_test)\n",
    "            plt.figure(figsize=(6,6))\n",
    "            sns.heatmap(cm, annot=True, fmt='d', cmap='Blues')\n",
    "            plt.ylabel('Actual')\n",
    "            plt.xlabel('Predicted')\n",
    "            plt.title('Confusion Matrix')\n",
    "\n",
    "            # first we will save the plot as an artifact\n",
    "            plt.savefig(\"confusion_matrix_{}.png\".format(model.__class__.__name__))\n",
    "\n",
    "            # then log this image\n",
    "            mlflow.log_artifact(\"confusion_matrix_{}.png\".format(model.__class__.__name__))\n",
    "            \n",
    "            print(\"Model: {}, accuracy_score: {}\".format(model.__class__.__name__,score))\n"
   ]
  },
  {
   "cell_type": "code",
   "execution_count": 61,
   "id": "ec62407e",
   "metadata": {},
   "outputs": [],
   "source": [
    "param_grid = {\n",
    "    \"max_depth\": [None, 5, 10, 20],\n",
    "    \"n_estimators\": [100, 200, 300],\n",
    "    \"min_samples_split\": [2, 3, 4]\n",
    "}"
   ]
  },
  {
   "cell_type": "code",
   "execution_count": 62,
   "id": "0a6ef655",
   "metadata": {},
   "outputs": [
    {
     "name": "stdout",
     "output_type": "stream",
     "text": [
      "🏃 View run casual-chimp-19 at: https://dagshub.com/rk2289868/email-spam-detection.mlflow/#/experiments/2/runs/5969c5ee50204c68a73f6d6f9644b9f8\n",
      "🧪 View experiment at: https://dagshub.com/rk2289868/email-spam-detection.mlflow/#/experiments/2\n",
      "🏃 View run unleashed-kit-244 at: https://dagshub.com/rk2289868/email-spam-detection.mlflow/#/experiments/2/runs/0bac3f9dd1d64d978eb0cd7003dd801a\n",
      "🧪 View experiment at: https://dagshub.com/rk2289868/email-spam-detection.mlflow/#/experiments/2\n",
      "🏃 View run fearless-gnu-979 at: https://dagshub.com/rk2289868/email-spam-detection.mlflow/#/experiments/2/runs/76b6ad203a614751b09e4a66c48df4a8\n",
      "🧪 View experiment at: https://dagshub.com/rk2289868/email-spam-detection.mlflow/#/experiments/2\n",
      "🏃 View run suave-whale-559 at: https://dagshub.com/rk2289868/email-spam-detection.mlflow/#/experiments/2/runs/34496d60690b4e64ab72d70950be2288\n",
      "🧪 View experiment at: https://dagshub.com/rk2289868/email-spam-detection.mlflow/#/experiments/2\n",
      "🏃 View run wise-bug-942 at: https://dagshub.com/rk2289868/email-spam-detection.mlflow/#/experiments/2/runs/bd445107b4924f1dba6fd91fba3bc76c\n",
      "🧪 View experiment at: https://dagshub.com/rk2289868/email-spam-detection.mlflow/#/experiments/2\n",
      "🏃 View run monumental-kit-148 at: https://dagshub.com/rk2289868/email-spam-detection.mlflow/#/experiments/2/runs/f8d3435c0c7a4adc968b2c60992f3748\n",
      "🧪 View experiment at: https://dagshub.com/rk2289868/email-spam-detection.mlflow/#/experiments/2\n",
      "🏃 View run languid-gnu-581 at: https://dagshub.com/rk2289868/email-spam-detection.mlflow/#/experiments/2/runs/6d682aae08f1441bab5d032615236ad0\n",
      "🧪 View experiment at: https://dagshub.com/rk2289868/email-spam-detection.mlflow/#/experiments/2\n",
      "🏃 View run defiant-rook-711 at: https://dagshub.com/rk2289868/email-spam-detection.mlflow/#/experiments/2/runs/f5bba37e4a8647979d49674e5df14e58\n",
      "🧪 View experiment at: https://dagshub.com/rk2289868/email-spam-detection.mlflow/#/experiments/2\n",
      "🏃 View run persistent-ram-324 at: https://dagshub.com/rk2289868/email-spam-detection.mlflow/#/experiments/2/runs/cf0bbf5d47ff418d900ac2541a2ad82f\n",
      "🧪 View experiment at: https://dagshub.com/rk2289868/email-spam-detection.mlflow/#/experiments/2\n",
      "🏃 View run peaceful-penguin-927 at: https://dagshub.com/rk2289868/email-spam-detection.mlflow/#/experiments/2/runs/0f9b8708fdde45dda939eab4c9df7c90\n",
      "🧪 View experiment at: https://dagshub.com/rk2289868/email-spam-detection.mlflow/#/experiments/2\n",
      "🏃 View run brawny-cow-803 at: https://dagshub.com/rk2289868/email-spam-detection.mlflow/#/experiments/2/runs/b5d3d40e897647128deb27caaa0cd2b9\n",
      "🧪 View experiment at: https://dagshub.com/rk2289868/email-spam-detection.mlflow/#/experiments/2\n",
      "🏃 View run adaptable-conch-842 at: https://dagshub.com/rk2289868/email-spam-detection.mlflow/#/experiments/2/runs/719b179226f946a1bbb0a35297eca23b\n",
      "🧪 View experiment at: https://dagshub.com/rk2289868/email-spam-detection.mlflow/#/experiments/2\n",
      "🏃 View run debonair-shoat-239 at: https://dagshub.com/rk2289868/email-spam-detection.mlflow/#/experiments/2/runs/15e138b6dd2840ef809d755a6d91cbed\n",
      "🧪 View experiment at: https://dagshub.com/rk2289868/email-spam-detection.mlflow/#/experiments/2\n",
      "🏃 View run classy-moth-312 at: https://dagshub.com/rk2289868/email-spam-detection.mlflow/#/experiments/2/runs/7124bf035d9e4b9cad75bef1e59884e7\n",
      "🧪 View experiment at: https://dagshub.com/rk2289868/email-spam-detection.mlflow/#/experiments/2\n",
      "🏃 View run lyrical-rook-689 at: https://dagshub.com/rk2289868/email-spam-detection.mlflow/#/experiments/2/runs/bc5c81ab43b74eb289b6bc0684309b0c\n",
      "🧪 View experiment at: https://dagshub.com/rk2289868/email-spam-detection.mlflow/#/experiments/2\n",
      "🏃 View run colorful-snail-117 at: https://dagshub.com/rk2289868/email-spam-detection.mlflow/#/experiments/2/runs/8a82f0501da64e179f407564515cb003\n",
      "🧪 View experiment at: https://dagshub.com/rk2289868/email-spam-detection.mlflow/#/experiments/2\n",
      "🏃 View run unruly-dove-775 at: https://dagshub.com/rk2289868/email-spam-detection.mlflow/#/experiments/2/runs/59c4858763ed4bdd93809fdcbbfaf0cd\n",
      "🧪 View experiment at: https://dagshub.com/rk2289868/email-spam-detection.mlflow/#/experiments/2\n",
      "🏃 View run languid-donkey-218 at: https://dagshub.com/rk2289868/email-spam-detection.mlflow/#/experiments/2/runs/bdef070d0dc7426b84f80c8d4a6d005d\n",
      "🧪 View experiment at: https://dagshub.com/rk2289868/email-spam-detection.mlflow/#/experiments/2\n",
      "🏃 View run delicate-goose-837 at: https://dagshub.com/rk2289868/email-spam-detection.mlflow/#/experiments/2/runs/ba8dd3b8944a42efa28be7a8d5700194\n",
      "🧪 View experiment at: https://dagshub.com/rk2289868/email-spam-detection.mlflow/#/experiments/2\n",
      "🏃 View run respected-hog-295 at: https://dagshub.com/rk2289868/email-spam-detection.mlflow/#/experiments/2/runs/1e4bfb4512c2441c9170e7ccd3de6d03\n",
      "🧪 View experiment at: https://dagshub.com/rk2289868/email-spam-detection.mlflow/#/experiments/2\n",
      "🏃 View run adaptable-midge-940 at: https://dagshub.com/rk2289868/email-spam-detection.mlflow/#/experiments/2/runs/eb03c00fe3164649bbb9dc0e2c5013a8\n",
      "🧪 View experiment at: https://dagshub.com/rk2289868/email-spam-detection.mlflow/#/experiments/2\n",
      "🏃 View run bold-bee-172 at: https://dagshub.com/rk2289868/email-spam-detection.mlflow/#/experiments/2/runs/66f25cc74fa546f292fa84347f2316d7\n",
      "🧪 View experiment at: https://dagshub.com/rk2289868/email-spam-detection.mlflow/#/experiments/2\n",
      "🏃 View run adorable-stoat-654 at: https://dagshub.com/rk2289868/email-spam-detection.mlflow/#/experiments/2/runs/0553487f66724225b6b8bba25da21f1e\n",
      "🧪 View experiment at: https://dagshub.com/rk2289868/email-spam-detection.mlflow/#/experiments/2\n",
      "🏃 View run worried-dog-482 at: https://dagshub.com/rk2289868/email-spam-detection.mlflow/#/experiments/2/runs/d6cff3ae1ad242e4962e93ba94f9eb75\n",
      "🧪 View experiment at: https://dagshub.com/rk2289868/email-spam-detection.mlflow/#/experiments/2\n",
      "🏃 View run selective-asp-201 at: https://dagshub.com/rk2289868/email-spam-detection.mlflow/#/experiments/2/runs/1b87d35aeef54bc494fcf58d6c7096e8\n",
      "🧪 View experiment at: https://dagshub.com/rk2289868/email-spam-detection.mlflow/#/experiments/2\n",
      "🏃 View run gaudy-sloth-643 at: https://dagshub.com/rk2289868/email-spam-detection.mlflow/#/experiments/2/runs/40e150b2b75e44dda0df6f1393cafcae\n",
      "🧪 View experiment at: https://dagshub.com/rk2289868/email-spam-detection.mlflow/#/experiments/2\n",
      "🏃 View run sneaky-newt-352 at: https://dagshub.com/rk2289868/email-spam-detection.mlflow/#/experiments/2/runs/773c478e8895403db8cc00e145f6c1e5\n",
      "🧪 View experiment at: https://dagshub.com/rk2289868/email-spam-detection.mlflow/#/experiments/2\n",
      "🏃 View run clumsy-stork-934 at: https://dagshub.com/rk2289868/email-spam-detection.mlflow/#/experiments/2/runs/b2ce4db40f5b48749e235ebad65ab6c6\n",
      "🧪 View experiment at: https://dagshub.com/rk2289868/email-spam-detection.mlflow/#/experiments/2\n",
      "🏃 View run selective-fox-189 at: https://dagshub.com/rk2289868/email-spam-detection.mlflow/#/experiments/2/runs/f3b18e049d294862ae409f65d2989fab\n",
      "🧪 View experiment at: https://dagshub.com/rk2289868/email-spam-detection.mlflow/#/experiments/2\n",
      "🏃 View run clean-hound-965 at: https://dagshub.com/rk2289868/email-spam-detection.mlflow/#/experiments/2/runs/f891f1cf6cb94f84aff86ed32d5e9813\n",
      "🧪 View experiment at: https://dagshub.com/rk2289868/email-spam-detection.mlflow/#/experiments/2\n",
      "🏃 View run loud-deer-228 at: https://dagshub.com/rk2289868/email-spam-detection.mlflow/#/experiments/2/runs/aef0db8fc3104b3d9c388c68cfef10f8\n",
      "🧪 View experiment at: https://dagshub.com/rk2289868/email-spam-detection.mlflow/#/experiments/2\n",
      "🏃 View run carefree-bass-824 at: https://dagshub.com/rk2289868/email-spam-detection.mlflow/#/experiments/2/runs/bdafca14543b41938291482891d5cda7\n",
      "🧪 View experiment at: https://dagshub.com/rk2289868/email-spam-detection.mlflow/#/experiments/2\n",
      "🏃 View run likeable-crane-691 at: https://dagshub.com/rk2289868/email-spam-detection.mlflow/#/experiments/2/runs/341ac2ce0a3941c1959a2c4d6779b380\n",
      "🧪 View experiment at: https://dagshub.com/rk2289868/email-spam-detection.mlflow/#/experiments/2\n",
      "🏃 View run sassy-deer-328 at: https://dagshub.com/rk2289868/email-spam-detection.mlflow/#/experiments/2/runs/f24246c25e6b42ab811a03c8029cfec3\n",
      "🧪 View experiment at: https://dagshub.com/rk2289868/email-spam-detection.mlflow/#/experiments/2\n",
      "🏃 View run dapper-bear-512 at: https://dagshub.com/rk2289868/email-spam-detection.mlflow/#/experiments/2/runs/0ee3b017ca114eb09618e2f88790a15c\n",
      "🧪 View experiment at: https://dagshub.com/rk2289868/email-spam-detection.mlflow/#/experiments/2\n",
      "🏃 View run aged-hawk-663 at: https://dagshub.com/rk2289868/email-spam-detection.mlflow/#/experiments/2/runs/f4232176fa714f6d8eb3f3a295ca94fc\n",
      "🧪 View experiment at: https://dagshub.com/rk2289868/email-spam-detection.mlflow/#/experiments/2\n"
     ]
    },
    {
     "name": "stderr",
     "output_type": "stream",
     "text": [
      "f:\\email-spam-detection\\myenv\\Lib\\site-packages\\mlflow\\types\\utils.py:452: UserWarning: Hint: Inferred schema contains integer column(s). Integer columns in Python cannot represent missing values. If your input data contains missing values at inference time, it will be encoded as floats and will cause a schema enforcement error. The best way to avoid this problem is to infer the model schema based on a realistic data sample (training dataset) that includes missing values. Alternatively, you can declare integer columns as doubles (float64) whenever these columns may have missing values. See `Handling Integers With Missing Values <https://www.mlflow.org/docs/latest/models.html#handling-integers-with-missing-values>`_ for more details.\n",
      "  warnings.warn(\n"
     ]
    },
    {
     "name": "stdout",
     "output_type": "stream",
     "text": [
      "Best Score:  0.9830991102894447\n",
      "Best Params:  {'max_depth': None, 'min_samples_split': 2, 'n_estimators': 300}\n",
      "🏃 View run rare-bug-240 at: https://dagshub.com/rk2289868/email-spam-detection.mlflow/#/experiments/2/runs/aa9f9ae9d9a9445482c49015e494ac9c\n",
      "🧪 View experiment at: https://dagshub.com/rk2289868/email-spam-detection.mlflow/#/experiments/2\n"
     ]
    }
   ],
   "source": [
    "from sklearn.model_selection import GridSearchCV\n",
    "import mlflow.sklearn\n",
    "mlflow.set_experiment(\"RandomForest\")\n",
    "\n",
    "with mlflow.start_run() as parent:\n",
    "    rf = RandomForestClassifier(random_state=42)\n",
    "    model = GridSearchCV(\n",
    "        estimator=rf,\n",
    "        param_grid=param_grid,\n",
    "        cv=5,\n",
    "        scoring='accuracy',\n",
    "        n_jobs=-1\n",
    "    )\n",
    "\n",
    "    model.fit(X_train_vectorized, y_train)\n",
    "\n",
    "    for i in range(len(model.cv_results_['params'])):\n",
    "\n",
    "        with mlflow.start_run(nested=True) as child:\n",
    "            mlflow.log_params(model.cv_results_['params'][i])\n",
    "            mlflow.log_metric(\"accuracy\", model.cv_results_['mean_test_score'][i])\n",
    "\n",
    "    best_params = model.best_params_\n",
    "    best_score = model.best_score_\n",
    "\n",
    "    # log params\n",
    "    mlflow.log_params(best_params)\n",
    "\n",
    "    # log metric\n",
    "    mlflow.log_metric(\"accuracy\", best_score)\n",
    "\n",
    "    # log data\n",
    "    train_df = pd.DataFrame(X_train, columns=['text'])\n",
    "    train_df['spam'] = y_train\n",
    "\n",
    "    test_df = pd.DataFrame(X_test, columns=['text'])\n",
    "    test_df['spam'] = y_test\n",
    "\n",
    "    train_df_format = mlflow.data.from_pandas(train_df)\n",
    "    test_df_format = mlflow.data.from_pandas(test_df)\n",
    "\n",
    "    mlflow.log_input(train_df_format, \"training_data\")\n",
    "    mlflow.log_input(test_df_format, \"testing_data\")\n",
    "\n",
    "    # log model\n",
    "    # mlflow.sklearn.log_model(model.best_estimator_, artifact_path=\"model\")\n",
    "\n",
    "    # set tag\n",
    "    mlflow.set_tag(\"author\", \"Rohit\")\n",
    "\n",
    "    print(\"Best Score: \", best_score)\n",
    "    print(\"Best Params: \", best_params)\n",
    "\n"
   ]
  },
  {
   "cell_type": "code",
   "execution_count": null,
   "id": "05e01ba8",
   "metadata": {},
   "outputs": [],
   "source": []
  }
 ],
 "metadata": {
  "kernelspec": {
   "display_name": "myenv",
   "language": "python",
   "name": "python3"
  },
  "language_info": {
   "codemirror_mode": {
    "name": "ipython",
    "version": 3
   },
   "file_extension": ".py",
   "mimetype": "text/x-python",
   "name": "python",
   "nbconvert_exporter": "python",
   "pygments_lexer": "ipython3",
   "version": "3.11.5"
  }
 },
 "nbformat": 4,
 "nbformat_minor": 5
}
